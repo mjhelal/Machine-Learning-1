{
 "cells": [
  {
   "cell_type": "code",
   "execution_count": 1,
   "metadata": {},
   "outputs": [],
   "source": [
    "import turicreate"
   ]
  },
  {
   "cell_type": "markdown",
   "metadata": {},
   "source": [
    "# Task 1\n",
    "\n",
    "Sketch summaries are techniques for computing summary statistics of data very quickly. In Turi Create has a method sketch which computes summary statistics. Using the training data, compute the sketch summary of the label olumn and interpret the results by running this command.\n",
    "\n",
    "sketch = turicreate.Sketch(image_data['label'])\n",
    "\n",
    "Then look at the sketch object to see the summary statistics.\n",
    "\n",
    "For more information on Sketch, see:\n",
    "\n",
    "https://apple.github.io/turicreate/docs/api/generated/turicreate.Sketch.html?highlight=sketch\n",
    "\n",
    "What is the least common category in the training data?\n",
    "\n",
    "Save this result to answer the quiz for this module."
   ]
  },
  {
   "cell_type": "code",
   "execution_count": 2,
   "metadata": {},
   "outputs": [],
   "source": [
    "image_data = turicreate.SFrame('image_train_data')"
   ]
  },
  {
   "cell_type": "code",
   "execution_count": 20,
   "metadata": {},
   "outputs": [],
   "source": [
    "test_data = turicreate.SFrame('image_test_data')"
   ]
  },
  {
   "cell_type": "code",
   "execution_count": 3,
   "metadata": {},
   "outputs": [],
   "source": [
    "sketch = turicreate.Sketch(image_data['label'])"
   ]
  },
  {
   "cell_type": "code",
   "execution_count": 12,
   "metadata": {},
   "outputs": [
    {
     "data": {
      "text/plain": [
       "<bound method Sketch.frequency_count of \n",
       "+------------------+-------+----------+\n",
       "|       item       | value | is exact |\n",
       "+------------------+-------+----------+\n",
       "|      Length      |  2005 |   Yes    |\n",
       "| # Missing Values |   0   |   Yes    |\n",
       "| # unique values  |   4   |    No    |\n",
       "+------------------+-------+----------+\n",
       "\n",
       "Most frequent items:\n",
       "+------------+-------+\n",
       "|   value    | count |\n",
       "+------------+-------+\n",
       "|    cat     |  509  |\n",
       "|    dog     |  509  |\n",
       "| automobile |  509  |\n",
       "|    bird    |  478  |\n",
       "+------------+-------+\n",
       "\n",
       ">"
      ]
     },
     "execution_count": 12,
     "metadata": {},
     "output_type": "execute_result"
    }
   ],
   "source": [
    "sketch.frequency_count"
   ]
  },
  {
   "cell_type": "markdown",
   "metadata": {},
   "source": [
    "## Answer1: The least frequent is bird"
   ]
  },
  {
   "cell_type": "markdown",
   "metadata": {},
   "source": [
    "# Task 2: Create category-specific image retrieval models\n",
    "\n",
    "In most retrieval tasks, the data are unlabeled, thus you call these unsupervised learning problems. This image dataset has labels, so you will use them to create one model for each of the four image categories, dog, cat, automobile, and bird.\n",
    "\n",
    "Follow these steps:\n",
    "\n",
    "## 1\n",
    "Split the training data into 4 different SFrame data structures. Each will contain data for one of the four categories image categories. (Hint: If you use a logical filter to select the rows where the label column equals ‘dog’, you can create an SFrame that contains only the data for images labeled ‘dog’.)\n",
    "\n",
    "## 2\n",
    "Similarly to the image retrieval notebook you downloaded, you will create a nearest neighbor model using deep features. You will create one such model for each category, using the corresponding subset of the training data. Call the model with the dog images dog_model, the one with the cat images cat_model, as so on.\n",
    "You now have a nearest neighbors model, dog_model, that can find the nearest dog to any image you give the model. Another model, cat_model, that can find the nearest cat to any image you give it, and so on.\n",
    "\n",
    "The following cat image is the first in the test data (image_test[0:1]):\n",
    "\n",
    "## Using these models, answer the following questions.\n",
    "\n",
    "What is the nearest cat-labeled image in the training data to the cat image that is the first image in the test data ?\n",
    "\n",
    "What is the nearest dog-labeled image in the training data to the cat image that is the first image in the test data?"
   ]
  },
  {
   "cell_type": "code",
   "execution_count": 15,
   "metadata": {},
   "outputs": [],
   "source": [
    "dogs = image_data[image_data['label'] == 'dog' ]\n",
    "cats = image_data[image_data['label'] == 'cat' ]\n",
    "automobiles = image_data[image_data['label'] == 'automobile' ]\n",
    "birds = image_data[image_data['label'] == 'bird' ]"
   ]
  },
  {
   "cell_type": "code",
   "execution_count": 18,
   "metadata": {},
   "outputs": [
    {
     "data": {
      "text/html": [
       "<pre>Starting brute force nearest neighbors model training.</pre>"
      ],
      "text/plain": [
       "Starting brute force nearest neighbors model training."
      ]
     },
     "metadata": {},
     "output_type": "display_data"
    },
    {
     "data": {
      "text/html": [
       "<pre>Starting brute force nearest neighbors model training.</pre>"
      ],
      "text/plain": [
       "Starting brute force nearest neighbors model training."
      ]
     },
     "metadata": {},
     "output_type": "display_data"
    },
    {
     "data": {
      "text/html": [
       "<pre>Starting brute force nearest neighbors model training.</pre>"
      ],
      "text/plain": [
       "Starting brute force nearest neighbors model training."
      ]
     },
     "metadata": {},
     "output_type": "display_data"
    },
    {
     "data": {
      "text/html": [
       "<pre>Starting brute force nearest neighbors model training.</pre>"
      ],
      "text/plain": [
       "Starting brute force nearest neighbors model training."
      ]
     },
     "metadata": {},
     "output_type": "display_data"
    }
   ],
   "source": [
    "dogs_model = turicreate.nearest_neighbors.create(dogs,\n",
    "                                               features = ['deep_features'],\n",
    "                                               label = 'id')\n",
    "cats_model = turicreate.nearest_neighbors.create(cats,\n",
    "                                               features = ['deep_features'],\n",
    "                                               label = 'id')\n",
    "automobiles_model = turicreate.nearest_neighbors.create(automobiles,\n",
    "                                               features = ['deep_features'],\n",
    "                                               label = 'id')\n",
    "birds_model = turicreate.nearest_neighbors.create(birds,\n",
    "                                               features = ['deep_features'],\n",
    "                                               label = 'id')"
   ]
  },
  {
   "cell_type": "code",
   "execution_count": 21,
   "metadata": {},
   "outputs": [],
   "source": [
    "catpru = test_data[0:1]"
   ]
  },
  {
   "cell_type": "code",
   "execution_count": 23,
   "metadata": {},
   "outputs": [
    {
     "data": {
      "text/html": [
       "<pre>Starting pairwise querying.</pre>"
      ],
      "text/plain": [
       "Starting pairwise querying."
      ]
     },
     "metadata": {},
     "output_type": "display_data"
    },
    {
     "data": {
      "text/html": [
       "<pre>+--------------+---------+-------------+--------------+</pre>"
      ],
      "text/plain": [
       "+--------------+---------+-------------+--------------+"
      ]
     },
     "metadata": {},
     "output_type": "display_data"
    },
    {
     "data": {
      "text/html": [
       "<pre>| Query points | # Pairs | % Complete. | Elapsed Time |</pre>"
      ],
      "text/plain": [
       "| Query points | # Pairs | % Complete. | Elapsed Time |"
      ]
     },
     "metadata": {},
     "output_type": "display_data"
    },
    {
     "data": {
      "text/html": [
       "<pre>+--------------+---------+-------------+--------------+</pre>"
      ],
      "text/plain": [
       "+--------------+---------+-------------+--------------+"
      ]
     },
     "metadata": {},
     "output_type": "display_data"
    },
    {
     "data": {
      "text/html": [
       "<pre>| 0            | 1       | 0.196464    | 23.429ms     |</pre>"
      ],
      "text/plain": [
       "| 0            | 1       | 0.196464    | 23.429ms     |"
      ]
     },
     "metadata": {},
     "output_type": "display_data"
    },
    {
     "data": {
      "text/html": [
       "<pre>| Done         |         | 100         | 81.727ms     |</pre>"
      ],
      "text/plain": [
       "| Done         |         | 100         | 81.727ms     |"
      ]
     },
     "metadata": {},
     "output_type": "display_data"
    },
    {
     "data": {
      "text/html": [
       "<pre>+--------------+---------+-------------+--------------+</pre>"
      ],
      "text/plain": [
       "+--------------+---------+-------------+--------------+"
      ]
     },
     "metadata": {},
     "output_type": "display_data"
    },
    {
     "data": {
      "text/html": [
       "<div style=\"max-height:1000px;max-width:1500px;overflow:auto;\"><table frame=\"box\" rules=\"cols\">\n",
       "    <tr>\n",
       "        <th style=\"padding-left: 1em; padding-right: 1em; text-align: center\">query_label</th>\n",
       "        <th style=\"padding-left: 1em; padding-right: 1em; text-align: center\">reference_label</th>\n",
       "        <th style=\"padding-left: 1em; padding-right: 1em; text-align: center\">distance</th>\n",
       "        <th style=\"padding-left: 1em; padding-right: 1em; text-align: center\">rank</th>\n",
       "    </tr>\n",
       "    <tr>\n",
       "        <td style=\"padding-left: 1em; padding-right: 1em; text-align: center; vertical-align: top\">0</td>\n",
       "        <td style=\"padding-left: 1em; padding-right: 1em; text-align: center; vertical-align: top\">16289</td>\n",
       "        <td style=\"padding-left: 1em; padding-right: 1em; text-align: center; vertical-align: top\">34.62371920804245</td>\n",
       "        <td style=\"padding-left: 1em; padding-right: 1em; text-align: center; vertical-align: top\">1</td>\n",
       "    </tr>\n",
       "    <tr>\n",
       "        <td style=\"padding-left: 1em; padding-right: 1em; text-align: center; vertical-align: top\">0</td>\n",
       "        <td style=\"padding-left: 1em; padding-right: 1em; text-align: center; vertical-align: top\">45646</td>\n",
       "        <td style=\"padding-left: 1em; padding-right: 1em; text-align: center; vertical-align: top\">36.00687992842462</td>\n",
       "        <td style=\"padding-left: 1em; padding-right: 1em; text-align: center; vertical-align: top\">2</td>\n",
       "    </tr>\n",
       "    <tr>\n",
       "        <td style=\"padding-left: 1em; padding-right: 1em; text-align: center; vertical-align: top\">0</td>\n",
       "        <td style=\"padding-left: 1em; padding-right: 1em; text-align: center; vertical-align: top\">32139</td>\n",
       "        <td style=\"padding-left: 1em; padding-right: 1em; text-align: center; vertical-align: top\">36.52008134363789</td>\n",
       "        <td style=\"padding-left: 1em; padding-right: 1em; text-align: center; vertical-align: top\">3</td>\n",
       "    </tr>\n",
       "    <tr>\n",
       "        <td style=\"padding-left: 1em; padding-right: 1em; text-align: center; vertical-align: top\">0</td>\n",
       "        <td style=\"padding-left: 1em; padding-right: 1em; text-align: center; vertical-align: top\">25713</td>\n",
       "        <td style=\"padding-left: 1em; padding-right: 1em; text-align: center; vertical-align: top\">36.754850252057054</td>\n",
       "        <td style=\"padding-left: 1em; padding-right: 1em; text-align: center; vertical-align: top\">4</td>\n",
       "    </tr>\n",
       "    <tr>\n",
       "        <td style=\"padding-left: 1em; padding-right: 1em; text-align: center; vertical-align: top\">0</td>\n",
       "        <td style=\"padding-left: 1em; padding-right: 1em; text-align: center; vertical-align: top\">331</td>\n",
       "        <td style=\"padding-left: 1em; padding-right: 1em; text-align: center; vertical-align: top\">36.87312281675268</td>\n",
       "        <td style=\"padding-left: 1em; padding-right: 1em; text-align: center; vertical-align: top\">5</td>\n",
       "    </tr>\n",
       "</table>\n",
       "[5 rows x 4 columns]<br/>\n",
       "</div>"
      ],
      "text/plain": [
       "Columns:\n",
       "\tquery_label\tint\n",
       "\treference_label\tint\n",
       "\tdistance\tfloat\n",
       "\trank\tint\n",
       "\n",
       "Rows: 5\n",
       "\n",
       "Data:\n",
       "+-------------+-----------------+--------------------+------+\n",
       "| query_label | reference_label |      distance      | rank |\n",
       "+-------------+-----------------+--------------------+------+\n",
       "|      0      |      16289      | 34.62371920804245  |  1   |\n",
       "|      0      |      45646      | 36.00687992842462  |  2   |\n",
       "|      0      |      32139      | 36.52008134363789  |  3   |\n",
       "|      0      |      25713      | 36.754850252057054 |  4   |\n",
       "|      0      |       331       | 36.87312281675268  |  5   |\n",
       "+-------------+-----------------+--------------------+------+\n",
       "[5 rows x 4 columns]"
      ]
     },
     "execution_count": 23,
     "metadata": {},
     "output_type": "execute_result"
    }
   ],
   "source": [
    "cats_model.query(catpru)"
   ]
  },
  {
   "cell_type": "code",
   "execution_count": 146,
   "metadata": {},
   "outputs": [
    {
     "data": {
      "text/html": [
       "<html lang=\"en\">                                                     <head>                                                               <style>                                                              .sframe {                                                            font-size: 12px;                                                   font-family: HelveticaNeue;                                        border: 1px solid silver;                                        }                                                                  .sframe thead th {                                                   background: #F7F7F7;                                               font-family: HelveticaNeue-Medium;                                 font-size: 14px;                                                   line-height: 16.8px;                                               padding-top: 16px;                                                 padding-bottom: 16px;                                              padding-left: 10px;                                                padding-right: 38px;                                               border-top: 1px solid #E9E9E9;                                     border-bottom: 1px solid #E9E9E9;                                  white-space: nowrap;                                               overflow: hidden;                                                  text-overflow:ellipsis;                                            text-align:center;                                                 font-weight:normal;                                              }                                                                  .sframe tbody th {                                                   background: #FFFFFF;                                               text-align:left;                                                   font-weight:normal;                                                border-right: 1px solid #E9E9E9;                                 }                                                                  .sframe td {                                                         background: #FFFFFF;                                               padding-left: 10px;                                                padding-right: 38px;                                               padding-top: 14px;                                                 padding-bottom: 14px;                                              border-bottom: 1px solid #E9E9E9;                                  max-height: 0px;                                                   transition: max-height 5s ease-out;                                vertical-align: middle;                                            font-family: HelveticaNeue;                                        font-size: 12px;                                                   line-height: 16.8px;                                               background: #FFFFFF;                                             }                                                                  .sframe tr {                                                         padding-left: 10px;                                                padding-right: 38px;                                               padding-top: 14px;                                                 padding-bottom: 14px;                                              border-bottom: 1px solid #E9E9E9;                                  max-height: 0px;                                                   transition: max-height 5s ease-out;                                vertical-align: middle;                                            font-family: HelveticaNeue;                                        font-size: 12px;                                                   line-height: 16.8px;                                               background: #FFFFFF;                                             }                                                                  .sframe tr:hover {                                                   background: silver;                                              },                                                               </style>                                                         </head>                                                            <body>                                                               <h1>  </h1>                                             <table border=\"1\" class=\"dataframe sframe\">\n",
       "  <thead>\n",
       "    <tr style=\"text-align: right;\">\n",
       "      <th></th>\n",
       "      <th>SArray</th>\n",
       "    </tr>\n",
       "  </thead>\n",
       "  <tbody>\n",
       "    <tr>\n",
       "      <th>0</th>\n",
       "      <td><img src=\"data:image/png;base64,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\"/></td>\n",
       "    </tr>\n",
       "  </tbody>\n",
       "</table>                          </body>                                                          </html>"
      ],
      "text/plain": [
       "<IPython.core.display.HTML object>"
      ]
     },
     "metadata": {},
     "output_type": "display_data"
    }
   ],
   "source": [
    "cat_image = image_data[image_data['id']==16289]\n",
    "cat_image['image'].explore()"
   ]
  },
  {
   "cell_type": "code",
   "execution_count": 24,
   "metadata": {},
   "outputs": [
    {
     "data": {
      "text/html": [
       "<pre>Starting pairwise querying.</pre>"
      ],
      "text/plain": [
       "Starting pairwise querying."
      ]
     },
     "metadata": {},
     "output_type": "display_data"
    },
    {
     "data": {
      "text/html": [
       "<pre>+--------------+---------+-------------+--------------+</pre>"
      ],
      "text/plain": [
       "+--------------+---------+-------------+--------------+"
      ]
     },
     "metadata": {},
     "output_type": "display_data"
    },
    {
     "data": {
      "text/html": [
       "<pre>| Query points | # Pairs | % Complete. | Elapsed Time |</pre>"
      ],
      "text/plain": [
       "| Query points | # Pairs | % Complete. | Elapsed Time |"
      ]
     },
     "metadata": {},
     "output_type": "display_data"
    },
    {
     "data": {
      "text/html": [
       "<pre>+--------------+---------+-------------+--------------+</pre>"
      ],
      "text/plain": [
       "+--------------+---------+-------------+--------------+"
      ]
     },
     "metadata": {},
     "output_type": "display_data"
    },
    {
     "data": {
      "text/html": [
       "<pre>| 0            | 1       | 0.196464    | 9.93ms       |</pre>"
      ],
      "text/plain": [
       "| 0            | 1       | 0.196464    | 9.93ms       |"
      ]
     },
     "metadata": {},
     "output_type": "display_data"
    },
    {
     "data": {
      "text/html": [
       "<pre>| Done         |         | 100         | 61.682ms     |</pre>"
      ],
      "text/plain": [
       "| Done         |         | 100         | 61.682ms     |"
      ]
     },
     "metadata": {},
     "output_type": "display_data"
    },
    {
     "data": {
      "text/html": [
       "<pre>+--------------+---------+-------------+--------------+</pre>"
      ],
      "text/plain": [
       "+--------------+---------+-------------+--------------+"
      ]
     },
     "metadata": {},
     "output_type": "display_data"
    },
    {
     "data": {
      "text/html": [
       "<div style=\"max-height:1000px;max-width:1500px;overflow:auto;\"><table frame=\"box\" rules=\"cols\">\n",
       "    <tr>\n",
       "        <th style=\"padding-left: 1em; padding-right: 1em; text-align: center\">query_label</th>\n",
       "        <th style=\"padding-left: 1em; padding-right: 1em; text-align: center\">reference_label</th>\n",
       "        <th style=\"padding-left: 1em; padding-right: 1em; text-align: center\">distance</th>\n",
       "        <th style=\"padding-left: 1em; padding-right: 1em; text-align: center\">rank</th>\n",
       "    </tr>\n",
       "    <tr>\n",
       "        <td style=\"padding-left: 1em; padding-right: 1em; text-align: center; vertical-align: top\">0</td>\n",
       "        <td style=\"padding-left: 1em; padding-right: 1em; text-align: center; vertical-align: top\">16976</td>\n",
       "        <td style=\"padding-left: 1em; padding-right: 1em; text-align: center; vertical-align: top\">37.464262878423774</td>\n",
       "        <td style=\"padding-left: 1em; padding-right: 1em; text-align: center; vertical-align: top\">1</td>\n",
       "    </tr>\n",
       "    <tr>\n",
       "        <td style=\"padding-left: 1em; padding-right: 1em; text-align: center; vertical-align: top\">0</td>\n",
       "        <td style=\"padding-left: 1em; padding-right: 1em; text-align: center; vertical-align: top\">13387</td>\n",
       "        <td style=\"padding-left: 1em; padding-right: 1em; text-align: center; vertical-align: top\">37.56668321685285</td>\n",
       "        <td style=\"padding-left: 1em; padding-right: 1em; text-align: center; vertical-align: top\">2</td>\n",
       "    </tr>\n",
       "    <tr>\n",
       "        <td style=\"padding-left: 1em; padding-right: 1em; text-align: center; vertical-align: top\">0</td>\n",
       "        <td style=\"padding-left: 1em; padding-right: 1em; text-align: center; vertical-align: top\">35867</td>\n",
       "        <td style=\"padding-left: 1em; padding-right: 1em; text-align: center; vertical-align: top\">37.60472670789396</td>\n",
       "        <td style=\"padding-left: 1em; padding-right: 1em; text-align: center; vertical-align: top\">3</td>\n",
       "    </tr>\n",
       "    <tr>\n",
       "        <td style=\"padding-left: 1em; padding-right: 1em; text-align: center; vertical-align: top\">0</td>\n",
       "        <td style=\"padding-left: 1em; padding-right: 1em; text-align: center; vertical-align: top\">44603</td>\n",
       "        <td style=\"padding-left: 1em; padding-right: 1em; text-align: center; vertical-align: top\">37.70655851529755</td>\n",
       "        <td style=\"padding-left: 1em; padding-right: 1em; text-align: center; vertical-align: top\">4</td>\n",
       "    </tr>\n",
       "    <tr>\n",
       "        <td style=\"padding-left: 1em; padding-right: 1em; text-align: center; vertical-align: top\">0</td>\n",
       "        <td style=\"padding-left: 1em; padding-right: 1em; text-align: center; vertical-align: top\">6094</td>\n",
       "        <td style=\"padding-left: 1em; padding-right: 1em; text-align: center; vertical-align: top\">38.511325490739715</td>\n",
       "        <td style=\"padding-left: 1em; padding-right: 1em; text-align: center; vertical-align: top\">5</td>\n",
       "    </tr>\n",
       "</table>\n",
       "[5 rows x 4 columns]<br/>\n",
       "</div>"
      ],
      "text/plain": [
       "Columns:\n",
       "\tquery_label\tint\n",
       "\treference_label\tint\n",
       "\tdistance\tfloat\n",
       "\trank\tint\n",
       "\n",
       "Rows: 5\n",
       "\n",
       "Data:\n",
       "+-------------+-----------------+--------------------+------+\n",
       "| query_label | reference_label |      distance      | rank |\n",
       "+-------------+-----------------+--------------------+------+\n",
       "|      0      |      16976      | 37.464262878423774 |  1   |\n",
       "|      0      |      13387      | 37.56668321685285  |  2   |\n",
       "|      0      |      35867      | 37.60472670789396  |  3   |\n",
       "|      0      |      44603      | 37.70655851529755  |  4   |\n",
       "|      0      |       6094      | 38.511325490739715 |  5   |\n",
       "+-------------+-----------------+--------------------+------+\n",
       "[5 rows x 4 columns]"
      ]
     },
     "execution_count": 24,
     "metadata": {},
     "output_type": "execute_result"
    }
   ],
   "source": [
    "dogs_model.query(catpru)"
   ]
  },
  {
   "cell_type": "code",
   "execution_count": 148,
   "metadata": {},
   "outputs": [
    {
     "data": {
      "text/html": [
       "<html lang=\"en\">                                                     <head>                                                               <style>                                                              .sframe {                                                            font-size: 12px;                                                   font-family: HelveticaNeue;                                        border: 1px solid silver;                                        }                                                                  .sframe thead th {                                                   background: #F7F7F7;                                               font-family: HelveticaNeue-Medium;                                 font-size: 14px;                                                   line-height: 16.8px;                                               padding-top: 16px;                                                 padding-bottom: 16px;                                              padding-left: 10px;                                                padding-right: 38px;                                               border-top: 1px solid #E9E9E9;                                     border-bottom: 1px solid #E9E9E9;                                  white-space: nowrap;                                               overflow: hidden;                                                  text-overflow:ellipsis;                                            text-align:center;                                                 font-weight:normal;                                              }                                                                  .sframe tbody th {                                                   background: #FFFFFF;                                               text-align:left;                                                   font-weight:normal;                                                border-right: 1px solid #E9E9E9;                                 }                                                                  .sframe td {                                                         background: #FFFFFF;                                               padding-left: 10px;                                                padding-right: 38px;                                               padding-top: 14px;                                                 padding-bottom: 14px;                                              border-bottom: 1px solid #E9E9E9;                                  max-height: 0px;                                                   transition: max-height 5s ease-out;                                vertical-align: middle;                                            font-family: HelveticaNeue;                                        font-size: 12px;                                                   line-height: 16.8px;                                               background: #FFFFFF;                                             }                                                                  .sframe tr {                                                         padding-left: 10px;                                                padding-right: 38px;                                               padding-top: 14px;                                                 padding-bottom: 14px;                                              border-bottom: 1px solid #E9E9E9;                                  max-height: 0px;                                                   transition: max-height 5s ease-out;                                vertical-align: middle;                                            font-family: HelveticaNeue;                                        font-size: 12px;                                                   line-height: 16.8px;                                               background: #FFFFFF;                                             }                                                                  .sframe tr:hover {                                                   background: silver;                                              },                                                               </style>                                                         </head>                                                            <body>                                                               <h1>  </h1>                                             <table border=\"1\" class=\"dataframe sframe\">\n",
       "  <thead>\n",
       "    <tr style=\"text-align: right;\">\n",
       "      <th></th>\n",
       "      <th>SArray</th>\n",
       "    </tr>\n",
       "  </thead>\n",
       "  <tbody>\n",
       "    <tr>\n",
       "      <th>0</th>\n",
       "      <td><img src=\"data:image/png;base64,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\"/></td>\n",
       "    </tr>\n",
       "  </tbody>\n",
       "</table>                          </body>                                                          </html>"
      ],
      "text/plain": [
       "<IPython.core.display.HTML object>"
      ]
     },
     "metadata": {},
     "output_type": "display_data"
    }
   ],
   "source": [
    "dog_image = image_data[image_data['id']==16976]\n",
    "dog_image['image'].explore()"
   ]
  },
  {
   "cell_type": "code",
   "execution_count": 30,
   "metadata": {},
   "outputs": [],
   "source": [
    "#def get_images_from_ids(query_result):\n",
    "#    return image_data.filter_by(query_result['reference_label'],'id')"
   ]
  },
  {
   "cell_type": "code",
   "execution_count": 31,
   "metadata": {},
   "outputs": [],
   "source": [
    "#cat_neighbors = get_images_from_ids(dogs_model.query(catpru))"
   ]
  },
  {
   "cell_type": "code",
   "execution_count": 32,
   "metadata": {},
   "outputs": [],
   "source": [
    "#cat_neighbors['image'].explore()"
   ]
  },
  {
   "cell_type": "markdown",
   "metadata": {},
   "source": [
    "# Task 3: Try a simple example of nearest-neighbors classification\n",
    "\n",
    "When you queried the nearest neighbors model, the distance column in the Task 2 showed the computed distance between the input and each of the retrieved neighbors. In this task, you will use these distances for classification, using a nearest-neighbors classifier.\n",
    "\n",
    "## 1\n",
    "For the first image in the test data (image_test[0:1]), compute the mean distance between this image at its five nearest neighbors that are labeled ‘cat’ in the training data (similar to what you did in the previous question).\n",
    "\n",
    "## 2\n",
    "For the first image in the test data (image_test[0:1]), compute the mean distance between this image at its five nearest neighbors that are labeled ‘dog’ in the training data (similar to what you did in the previous question).\n",
    "On average, is the first image in the test data closer to its five nearest neighbors in the ‘cat’ data or in the ‘dog’ data?\n",
    "\n",
    "Save these results to answer the quiz for this module"
   ]
  },
  {
   "cell_type": "code",
   "execution_count": 33,
   "metadata": {},
   "outputs": [
    {
     "data": {
      "text/html": [
       "<pre>Starting pairwise querying.</pre>"
      ],
      "text/plain": [
       "Starting pairwise querying."
      ]
     },
     "metadata": {},
     "output_type": "display_data"
    },
    {
     "data": {
      "text/html": [
       "<pre>+--------------+---------+-------------+--------------+</pre>"
      ],
      "text/plain": [
       "+--------------+---------+-------------+--------------+"
      ]
     },
     "metadata": {},
     "output_type": "display_data"
    },
    {
     "data": {
      "text/html": [
       "<pre>| Query points | # Pairs | % Complete. | Elapsed Time |</pre>"
      ],
      "text/plain": [
       "| Query points | # Pairs | % Complete. | Elapsed Time |"
      ]
     },
     "metadata": {},
     "output_type": "display_data"
    },
    {
     "data": {
      "text/html": [
       "<pre>+--------------+---------+-------------+--------------+</pre>"
      ],
      "text/plain": [
       "+--------------+---------+-------------+--------------+"
      ]
     },
     "metadata": {},
     "output_type": "display_data"
    },
    {
     "data": {
      "text/html": [
       "<pre>| 0            | 1       | 0.196464    | 10.159ms     |</pre>"
      ],
      "text/plain": [
       "| 0            | 1       | 0.196464    | 10.159ms     |"
      ]
     },
     "metadata": {},
     "output_type": "display_data"
    },
    {
     "data": {
      "text/html": [
       "<pre>| Done         |         | 100         | 64.17ms      |</pre>"
      ],
      "text/plain": [
       "| Done         |         | 100         | 64.17ms      |"
      ]
     },
     "metadata": {},
     "output_type": "display_data"
    },
    {
     "data": {
      "text/html": [
       "<pre>+--------------+---------+-------------+--------------+</pre>"
      ],
      "text/plain": [
       "+--------------+---------+-------------+--------------+"
      ]
     },
     "metadata": {},
     "output_type": "display_data"
    },
    {
     "data": {
      "text/html": [
       "<pre>Starting pairwise querying.</pre>"
      ],
      "text/plain": [
       "Starting pairwise querying."
      ]
     },
     "metadata": {},
     "output_type": "display_data"
    },
    {
     "data": {
      "text/html": [
       "<pre>+--------------+---------+-------------+--------------+</pre>"
      ],
      "text/plain": [
       "+--------------+---------+-------------+--------------+"
      ]
     },
     "metadata": {},
     "output_type": "display_data"
    },
    {
     "data": {
      "text/html": [
       "<pre>| Query points | # Pairs | % Complete. | Elapsed Time |</pre>"
      ],
      "text/plain": [
       "| Query points | # Pairs | % Complete. | Elapsed Time |"
      ]
     },
     "metadata": {},
     "output_type": "display_data"
    },
    {
     "data": {
      "text/html": [
       "<pre>+--------------+---------+-------------+--------------+</pre>"
      ],
      "text/plain": [
       "+--------------+---------+-------------+--------------+"
      ]
     },
     "metadata": {},
     "output_type": "display_data"
    },
    {
     "data": {
      "text/html": [
       "<pre>| 0            | 1       | 0.196464    | 7.763ms      |</pre>"
      ],
      "text/plain": [
       "| 0            | 1       | 0.196464    | 7.763ms      |"
      ]
     },
     "metadata": {},
     "output_type": "display_data"
    },
    {
     "data": {
      "text/html": [
       "<pre>| Done         |         | 100         | 53.973ms     |</pre>"
      ],
      "text/plain": [
       "| Done         |         | 100         | 53.973ms     |"
      ]
     },
     "metadata": {},
     "output_type": "display_data"
    },
    {
     "data": {
      "text/html": [
       "<pre>+--------------+---------+-------------+--------------+</pre>"
      ],
      "text/plain": [
       "+--------------+---------+-------------+--------------+"
      ]
     },
     "metadata": {},
     "output_type": "display_data"
    }
   ],
   "source": [
    "catmean = cats_model.query(catpru)\n",
    "dogmean = dogs_model.query(catpru)"
   ]
  },
  {
   "cell_type": "code",
   "execution_count": 34,
   "metadata": {},
   "outputs": [
    {
     "data": {
      "text/html": [
       "<div style=\"max-height:1000px;max-width:1500px;overflow:auto;\"><table frame=\"box\" rules=\"cols\">\n",
       "    <tr>\n",
       "        <th style=\"padding-left: 1em; padding-right: 1em; text-align: center\">query_label</th>\n",
       "        <th style=\"padding-left: 1em; padding-right: 1em; text-align: center\">reference_label</th>\n",
       "        <th style=\"padding-left: 1em; padding-right: 1em; text-align: center\">distance</th>\n",
       "        <th style=\"padding-left: 1em; padding-right: 1em; text-align: center\">rank</th>\n",
       "    </tr>\n",
       "    <tr>\n",
       "        <td style=\"padding-left: 1em; padding-right: 1em; text-align: center; vertical-align: top\">0</td>\n",
       "        <td style=\"padding-left: 1em; padding-right: 1em; text-align: center; vertical-align: top\">16289</td>\n",
       "        <td style=\"padding-left: 1em; padding-right: 1em; text-align: center; vertical-align: top\">34.62371920804245</td>\n",
       "        <td style=\"padding-left: 1em; padding-right: 1em; text-align: center; vertical-align: top\">1</td>\n",
       "    </tr>\n",
       "    <tr>\n",
       "        <td style=\"padding-left: 1em; padding-right: 1em; text-align: center; vertical-align: top\">0</td>\n",
       "        <td style=\"padding-left: 1em; padding-right: 1em; text-align: center; vertical-align: top\">45646</td>\n",
       "        <td style=\"padding-left: 1em; padding-right: 1em; text-align: center; vertical-align: top\">36.00687992842462</td>\n",
       "        <td style=\"padding-left: 1em; padding-right: 1em; text-align: center; vertical-align: top\">2</td>\n",
       "    </tr>\n",
       "    <tr>\n",
       "        <td style=\"padding-left: 1em; padding-right: 1em; text-align: center; vertical-align: top\">0</td>\n",
       "        <td style=\"padding-left: 1em; padding-right: 1em; text-align: center; vertical-align: top\">32139</td>\n",
       "        <td style=\"padding-left: 1em; padding-right: 1em; text-align: center; vertical-align: top\">36.52008134363789</td>\n",
       "        <td style=\"padding-left: 1em; padding-right: 1em; text-align: center; vertical-align: top\">3</td>\n",
       "    </tr>\n",
       "    <tr>\n",
       "        <td style=\"padding-left: 1em; padding-right: 1em; text-align: center; vertical-align: top\">0</td>\n",
       "        <td style=\"padding-left: 1em; padding-right: 1em; text-align: center; vertical-align: top\">25713</td>\n",
       "        <td style=\"padding-left: 1em; padding-right: 1em; text-align: center; vertical-align: top\">36.754850252057054</td>\n",
       "        <td style=\"padding-left: 1em; padding-right: 1em; text-align: center; vertical-align: top\">4</td>\n",
       "    </tr>\n",
       "    <tr>\n",
       "        <td style=\"padding-left: 1em; padding-right: 1em; text-align: center; vertical-align: top\">0</td>\n",
       "        <td style=\"padding-left: 1em; padding-right: 1em; text-align: center; vertical-align: top\">331</td>\n",
       "        <td style=\"padding-left: 1em; padding-right: 1em; text-align: center; vertical-align: top\">36.87312281675268</td>\n",
       "        <td style=\"padding-left: 1em; padding-right: 1em; text-align: center; vertical-align: top\">5</td>\n",
       "    </tr>\n",
       "</table>\n",
       "[5 rows x 4 columns]<br/>\n",
       "</div>"
      ],
      "text/plain": [
       "Columns:\n",
       "\tquery_label\tint\n",
       "\treference_label\tint\n",
       "\tdistance\tfloat\n",
       "\trank\tint\n",
       "\n",
       "Rows: 5\n",
       "\n",
       "Data:\n",
       "+-------------+-----------------+--------------------+------+\n",
       "| query_label | reference_label |      distance      | rank |\n",
       "+-------------+-----------------+--------------------+------+\n",
       "|      0      |      16289      | 34.62371920804245  |  1   |\n",
       "|      0      |      45646      | 36.00687992842462  |  2   |\n",
       "|      0      |      32139      | 36.52008134363789  |  3   |\n",
       "|      0      |      25713      | 36.754850252057054 |  4   |\n",
       "|      0      |       331       | 36.87312281675268  |  5   |\n",
       "+-------------+-----------------+--------------------+------+\n",
       "[5 rows x 4 columns]"
      ]
     },
     "execution_count": 34,
     "metadata": {},
     "output_type": "execute_result"
    }
   ],
   "source": [
    "catmean"
   ]
  },
  {
   "cell_type": "code",
   "execution_count": 37,
   "metadata": {},
   "outputs": [
    {
     "name": "stdout",
     "output_type": "stream",
     "text": [
      "cat:  36.15573070978294 dog:  37.77071136184156\n"
     ]
    }
   ],
   "source": [
    "catmeannmb = catmean['distance'].mean()\n",
    "dogmeannmb = dogmean['distance'].mean()\n",
    "print('cat: ', catmeannmb,'dog: ', dogmeannmb)"
   ]
  },
  {
   "cell_type": "markdown",
   "metadata": {},
   "source": [
    "# Task 4: Compute nearest neighbors accuracy\n",
    "\n",
    "Just as you split the training data on label, you will now use the same procedure to split the test data on the cat, dog, automobile, and bird labels. Name the resulting SFrame data structures:\n",
    "\n",
    "image_test_cat, image_test_dog, image_test_bird, image_test_automobile\n",
    "\n",
    "Next you'll find nearest neighbors in the training set for each part of the test set\n",
    "\n",
    "Thus far you queried the nearest neighbors models with a single image as the input, but you can actually query with a whole set of data. The query will find the nearest neighbors for each data point. Note that the input index is stored in the query_labelcolumn of the resulting SFrame.\n",
    "\n",
    "Using this knowledge find the closest neighbor to the dog test data using each of the trained models. For example, this code:\n",
    "\n",
    "dog_cat_neighbors = cat_model.query(image_test_dog, k=1)\n",
    "\n",
    "finds one neighbor (i.e., k=1) to the dog test images (image_test_dog) in the cat portion of the training data.\n",
    "\n",
    "Next, follow the same procedure for the other dog combinations: dog-automobile, dog-bird, and dog-dog.\n",
    "\n",
    "Create an SFrame with the distances from the dog test examples to the respective nearest neighbors in each class in the training data.\n",
    "\n",
    "The distance column in dog_cat_neighbors contains the distance between each dog-labeled image in the test set and its nearest cat-labeled image in the training set. The question to answer is: How many of the test set dog images are closer to a dog in the training set than to a cat, automobile, or bird?\n",
    "\n",
    "Next you will create an SFrame containing just these distances per data point. The goal is to create an SFrame called dog_distances with 4 columns:\n",
    "\n",
    "dog_distances[‘dog-dog’] ---- storing dog_dog_neighbors[‘distance’]\n",
    "dog_distances[‘dog-cat’] ---- storing dog_cat_neighbors[‘distance’]\n",
    "dog_distances[‘dog-automobile’] ---- storing dog_automobile_neighbors[‘distance’]\n",
    "dog_distances[‘dog-bird’] ---- storing dog_bird_neighbors[‘distance’]\n",
    "Hint: You can create a new SFrame from the columns of other SFrame structures by creating a dictionary with the new columns, as shown in this example:\n",
    "\n",
    "news_frame = turicreate.SFrame({'foo': others_frame['foo'],'bar': some_others_frame['bar']})"
   ]
  },
  {
   "cell_type": "code",
   "execution_count": 41,
   "metadata": {},
   "outputs": [],
   "source": [
    "image_test_dog = test_data[test_data['label'] == 'dog' ]\n",
    "image_test_cat = test_data[test_data['label'] == 'cat' ]\n",
    "image_test_automobile = test_data[test_data['label'] == 'automobile' ]\n",
    "image_test_bird = test_data[test_data['label'] == 'bird' ]\n"
   ]
  },
  {
   "cell_type": "code",
   "execution_count": 43,
   "metadata": {},
   "outputs": [
    {
     "data": {
      "text/html": [
       "<pre>Starting blockwise querying.</pre>"
      ],
      "text/plain": [
       "Starting blockwise querying."
      ]
     },
     "metadata": {},
     "output_type": "display_data"
    },
    {
     "data": {
      "text/html": [
       "<pre>max rows per data block: 4348</pre>"
      ],
      "text/plain": [
       "max rows per data block: 4348"
      ]
     },
     "metadata": {},
     "output_type": "display_data"
    },
    {
     "data": {
      "text/html": [
       "<pre>number of reference data blocks: 4</pre>"
      ],
      "text/plain": [
       "number of reference data blocks: 4"
      ]
     },
     "metadata": {},
     "output_type": "display_data"
    },
    {
     "data": {
      "text/html": [
       "<pre>number of query data blocks: 1</pre>"
      ],
      "text/plain": [
       "number of query data blocks: 1"
      ]
     },
     "metadata": {},
     "output_type": "display_data"
    },
    {
     "data": {
      "text/html": [
       "<pre>+--------------+---------+-------------+--------------+</pre>"
      ],
      "text/plain": [
       "+--------------+---------+-------------+--------------+"
      ]
     },
     "metadata": {},
     "output_type": "display_data"
    },
    {
     "data": {
      "text/html": [
       "<pre>| Query points | # Pairs | % Complete. | Elapsed Time |</pre>"
      ],
      "text/plain": [
       "| Query points | # Pairs | % Complete. | Elapsed Time |"
      ]
     },
     "metadata": {},
     "output_type": "display_data"
    },
    {
     "data": {
      "text/html": [
       "<pre>+--------------+---------+-------------+--------------+</pre>"
      ],
      "text/plain": [
       "+--------------+---------+-------------+--------------+"
      ]
     },
     "metadata": {},
     "output_type": "display_data"
    },
    {
     "data": {
      "text/html": [
       "<pre>| 1000         | 127000  | 24.9509     | 433.93ms     |</pre>"
      ],
      "text/plain": [
       "| 1000         | 127000  | 24.9509     | 433.93ms     |"
      ]
     },
     "metadata": {},
     "output_type": "display_data"
    },
    {
     "data": {
      "text/html": [
       "<pre>| Done         | 509000  | 100         | 452.107ms    |</pre>"
      ],
      "text/plain": [
       "| Done         | 509000  | 100         | 452.107ms    |"
      ]
     },
     "metadata": {},
     "output_type": "display_data"
    },
    {
     "data": {
      "text/html": [
       "<pre>+--------------+---------+-------------+--------------+</pre>"
      ],
      "text/plain": [
       "+--------------+---------+-------------+--------------+"
      ]
     },
     "metadata": {},
     "output_type": "display_data"
    },
    {
     "data": {
      "text/html": [
       "<pre>Starting blockwise querying.</pre>"
      ],
      "text/plain": [
       "Starting blockwise querying."
      ]
     },
     "metadata": {},
     "output_type": "display_data"
    },
    {
     "data": {
      "text/html": [
       "<pre>max rows per data block: 4348</pre>"
      ],
      "text/plain": [
       "max rows per data block: 4348"
      ]
     },
     "metadata": {},
     "output_type": "display_data"
    },
    {
     "data": {
      "text/html": [
       "<pre>number of reference data blocks: 4</pre>"
      ],
      "text/plain": [
       "number of reference data blocks: 4"
      ]
     },
     "metadata": {},
     "output_type": "display_data"
    },
    {
     "data": {
      "text/html": [
       "<pre>number of query data blocks: 1</pre>"
      ],
      "text/plain": [
       "number of query data blocks: 1"
      ]
     },
     "metadata": {},
     "output_type": "display_data"
    },
    {
     "data": {
      "text/html": [
       "<pre>+--------------+---------+-------------+--------------+</pre>"
      ],
      "text/plain": [
       "+--------------+---------+-------------+--------------+"
      ]
     },
     "metadata": {},
     "output_type": "display_data"
    },
    {
     "data": {
      "text/html": [
       "<pre>| Query points | # Pairs | % Complete. | Elapsed Time |</pre>"
      ],
      "text/plain": [
       "| Query points | # Pairs | % Complete. | Elapsed Time |"
      ]
     },
     "metadata": {},
     "output_type": "display_data"
    },
    {
     "data": {
      "text/html": [
       "<pre>+--------------+---------+-------------+--------------+</pre>"
      ],
      "text/plain": [
       "+--------------+---------+-------------+--------------+"
      ]
     },
     "metadata": {},
     "output_type": "display_data"
    },
    {
     "data": {
      "text/html": [
       "<pre>| 1000         | 119000  | 24.8954     | 439.155ms    |</pre>"
      ],
      "text/plain": [
       "| 1000         | 119000  | 24.8954     | 439.155ms    |"
      ]
     },
     "metadata": {},
     "output_type": "display_data"
    },
    {
     "data": {
      "text/html": [
       "<pre>| Done         | 478000  | 100         | 474.411ms    |</pre>"
      ],
      "text/plain": [
       "| Done         | 478000  | 100         | 474.411ms    |"
      ]
     },
     "metadata": {},
     "output_type": "display_data"
    },
    {
     "data": {
      "text/html": [
       "<pre>+--------------+---------+-------------+--------------+</pre>"
      ],
      "text/plain": [
       "+--------------+---------+-------------+--------------+"
      ]
     },
     "metadata": {},
     "output_type": "display_data"
    },
    {
     "data": {
      "text/html": [
       "<pre>Starting blockwise querying.</pre>"
      ],
      "text/plain": [
       "Starting blockwise querying."
      ]
     },
     "metadata": {},
     "output_type": "display_data"
    },
    {
     "data": {
      "text/html": [
       "<pre>max rows per data block: 4348</pre>"
      ],
      "text/plain": [
       "max rows per data block: 4348"
      ]
     },
     "metadata": {},
     "output_type": "display_data"
    },
    {
     "data": {
      "text/html": [
       "<pre>number of reference data blocks: 4</pre>"
      ],
      "text/plain": [
       "number of reference data blocks: 4"
      ]
     },
     "metadata": {},
     "output_type": "display_data"
    },
    {
     "data": {
      "text/html": [
       "<pre>number of query data blocks: 1</pre>"
      ],
      "text/plain": [
       "number of query data blocks: 1"
      ]
     },
     "metadata": {},
     "output_type": "display_data"
    },
    {
     "data": {
      "text/html": [
       "<pre>+--------------+---------+-------------+--------------+</pre>"
      ],
      "text/plain": [
       "+--------------+---------+-------------+--------------+"
      ]
     },
     "metadata": {},
     "output_type": "display_data"
    },
    {
     "data": {
      "text/html": [
       "<pre>| Query points | # Pairs | % Complete. | Elapsed Time |</pre>"
      ],
      "text/plain": [
       "| Query points | # Pairs | % Complete. | Elapsed Time |"
      ]
     },
     "metadata": {},
     "output_type": "display_data"
    },
    {
     "data": {
      "text/html": [
       "<pre>+--------------+---------+-------------+--------------+</pre>"
      ],
      "text/plain": [
       "+--------------+---------+-------------+--------------+"
      ]
     },
     "metadata": {},
     "output_type": "display_data"
    },
    {
     "data": {
      "text/html": [
       "<pre>| 1000         | 128000  | 25.1473     | 404.708ms    |</pre>"
      ],
      "text/plain": [
       "| 1000         | 128000  | 25.1473     | 404.708ms    |"
      ]
     },
     "metadata": {},
     "output_type": "display_data"
    },
    {
     "data": {
      "text/html": [
       "<pre>| Done         | 509000  | 100         | 505.034ms    |</pre>"
      ],
      "text/plain": [
       "| Done         | 509000  | 100         | 505.034ms    |"
      ]
     },
     "metadata": {},
     "output_type": "display_data"
    },
    {
     "data": {
      "text/html": [
       "<pre>+--------------+---------+-------------+--------------+</pre>"
      ],
      "text/plain": [
       "+--------------+---------+-------------+--------------+"
      ]
     },
     "metadata": {},
     "output_type": "display_data"
    },
    {
     "data": {
      "text/html": [
       "<pre>Starting blockwise querying.</pre>"
      ],
      "text/plain": [
       "Starting blockwise querying."
      ]
     },
     "metadata": {},
     "output_type": "display_data"
    },
    {
     "data": {
      "text/html": [
       "<pre>max rows per data block: 4348</pre>"
      ],
      "text/plain": [
       "max rows per data block: 4348"
      ]
     },
     "metadata": {},
     "output_type": "display_data"
    },
    {
     "data": {
      "text/html": [
       "<pre>number of reference data blocks: 4</pre>"
      ],
      "text/plain": [
       "number of reference data blocks: 4"
      ]
     },
     "metadata": {},
     "output_type": "display_data"
    },
    {
     "data": {
      "text/html": [
       "<pre>number of query data blocks: 1</pre>"
      ],
      "text/plain": [
       "number of query data blocks: 1"
      ]
     },
     "metadata": {},
     "output_type": "display_data"
    },
    {
     "data": {
      "text/html": [
       "<pre>+--------------+---------+-------------+--------------+</pre>"
      ],
      "text/plain": [
       "+--------------+---------+-------------+--------------+"
      ]
     },
     "metadata": {},
     "output_type": "display_data"
    },
    {
     "data": {
      "text/html": [
       "<pre>| Query points | # Pairs | % Complete. | Elapsed Time |</pre>"
      ],
      "text/plain": [
       "| Query points | # Pairs | % Complete. | Elapsed Time |"
      ]
     },
     "metadata": {},
     "output_type": "display_data"
    },
    {
     "data": {
      "text/html": [
       "<pre>+--------------+---------+-------------+--------------+</pre>"
      ],
      "text/plain": [
       "+--------------+---------+-------------+--------------+"
      ]
     },
     "metadata": {},
     "output_type": "display_data"
    },
    {
     "data": {
      "text/html": [
       "<pre>| 1000         | 127000  | 24.9509     | 458.882ms    |</pre>"
      ],
      "text/plain": [
       "| 1000         | 127000  | 24.9509     | 458.882ms    |"
      ]
     },
     "metadata": {},
     "output_type": "display_data"
    },
    {
     "data": {
      "text/html": [
       "<pre>| Done         | 509000  | 100         | 501.332ms    |</pre>"
      ],
      "text/plain": [
       "| Done         | 509000  | 100         | 501.332ms    |"
      ]
     },
     "metadata": {},
     "output_type": "display_data"
    },
    {
     "data": {
      "text/html": [
       "<pre>+--------------+---------+-------------+--------------+</pre>"
      ],
      "text/plain": [
       "+--------------+---------+-------------+--------------+"
      ]
     },
     "metadata": {},
     "output_type": "display_data"
    }
   ],
   "source": [
    "dog_cat_neighbors = cats_model.query(image_test_dog, k=1)\n",
    "dog_bird_neighbors = birds_model.query(image_test_dog, k=1)\n",
    "dog_automobile_neighbors = automobiles_model.query(image_test_dog, k=1)\n",
    "dog_dog_neighbors = dogs_model.query(image_test_dog, k=1)"
   ]
  },
  {
   "cell_type": "code",
   "execution_count": 49,
   "metadata": {},
   "outputs": [],
   "source": [
    "#dog_cat_neighbors = cats_model.query(image_test_dog, k=1)\n",
    "#dog_bird_neighbors = birds_model.query(image_test_dog, k=1)\n",
    "#dog_automobile_neighbors = automobiles_model.query(image_test_dog, k=1)\n",
    "#dog_dog_neighbors = dogs_model.query(image_test_dog, k=1)\n",
    "\n"
   ]
  },
  {
   "cell_type": "code",
   "execution_count": 50,
   "metadata": {},
   "outputs": [],
   "source": [
    "dog_distances = turicreate.SFrame({'dog-dog': dog_dog_neighbors['distance'],'dog-cat': dog_cat_neighbors['distance'],'dog-bird': dog_bird_neighbors['distance'],'dog-automobile': dog_automobile_neighbors['distance']})"
   ]
  },
  {
   "cell_type": "code",
   "execution_count": 52,
   "metadata": {},
   "outputs": [
    {
     "data": {
      "text/html": [
       "<div style=\"max-height:1000px;max-width:1500px;overflow:auto;\"><table frame=\"box\" rules=\"cols\">\n",
       "    <tr>\n",
       "        <th style=\"padding-left: 1em; padding-right: 1em; text-align: center\">dog-automobile</th>\n",
       "        <th style=\"padding-left: 1em; padding-right: 1em; text-align: center\">dog-bird</th>\n",
       "        <th style=\"padding-left: 1em; padding-right: 1em; text-align: center\">dog-cat</th>\n",
       "        <th style=\"padding-left: 1em; padding-right: 1em; text-align: center\">dog-dog</th>\n",
       "    </tr>\n",
       "    <tr>\n",
       "        <td style=\"padding-left: 1em; padding-right: 1em; text-align: center; vertical-align: top\">41.95797614571203</td>\n",
       "        <td style=\"padding-left: 1em; padding-right: 1em; text-align: center; vertical-align: top\">41.75386473035126</td>\n",
       "        <td style=\"padding-left: 1em; padding-right: 1em; text-align: center; vertical-align: top\">36.419607706754384</td>\n",
       "        <td style=\"padding-left: 1em; padding-right: 1em; text-align: center; vertical-align: top\">33.47735903726335</td>\n",
       "    </tr>\n",
       "    <tr>\n",
       "        <td style=\"padding-left: 1em; padding-right: 1em; text-align: center; vertical-align: top\">46.00213318067788</td>\n",
       "        <td style=\"padding-left: 1em; padding-right: 1em; text-align: center; vertical-align: top\">41.3382958924861</td>\n",
       "        <td style=\"padding-left: 1em; padding-right: 1em; text-align: center; vertical-align: top\">38.83532688735542</td>\n",
       "        <td style=\"padding-left: 1em; padding-right: 1em; text-align: center; vertical-align: top\">32.84584956840554</td>\n",
       "    </tr>\n",
       "    <tr>\n",
       "        <td style=\"padding-left: 1em; padding-right: 1em; text-align: center; vertical-align: top\">42.946229069238804</td>\n",
       "        <td style=\"padding-left: 1em; padding-right: 1em; text-align: center; vertical-align: top\">38.615759085289056</td>\n",
       "        <td style=\"padding-left: 1em; padding-right: 1em; text-align: center; vertical-align: top\">36.97634108541546</td>\n",
       "        <td style=\"padding-left: 1em; padding-right: 1em; text-align: center; vertical-align: top\">35.03970731890584</td>\n",
       "    </tr>\n",
       "    <tr>\n",
       "        <td style=\"padding-left: 1em; padding-right: 1em; text-align: center; vertical-align: top\">41.68660600484793</td>\n",
       "        <td style=\"padding-left: 1em; padding-right: 1em; text-align: center; vertical-align: top\">37.08922699538214</td>\n",
       "        <td style=\"padding-left: 1em; padding-right: 1em; text-align: center; vertical-align: top\">34.575007291446106</td>\n",
       "        <td style=\"padding-left: 1em; padding-right: 1em; text-align: center; vertical-align: top\">33.90103276968193</td>\n",
       "    </tr>\n",
       "    <tr>\n",
       "        <td style=\"padding-left: 1em; padding-right: 1em; text-align: center; vertical-align: top\">39.22696649347584</td>\n",
       "        <td style=\"padding-left: 1em; padding-right: 1em; text-align: center; vertical-align: top\">38.27228869398105</td>\n",
       "        <td style=\"padding-left: 1em; padding-right: 1em; text-align: center; vertical-align: top\">34.77882479101661</td>\n",
       "        <td style=\"padding-left: 1em; padding-right: 1em; text-align: center; vertical-align: top\">37.484925090925636</td>\n",
       "    </tr>\n",
       "    <tr>\n",
       "        <td style=\"padding-left: 1em; padding-right: 1em; text-align: center; vertical-align: top\">40.58451176980721</td>\n",
       "        <td style=\"padding-left: 1em; padding-right: 1em; text-align: center; vertical-align: top\">39.146208923590486</td>\n",
       "        <td style=\"padding-left: 1em; padding-right: 1em; text-align: center; vertical-align: top\">35.11715782924591</td>\n",
       "        <td style=\"padding-left: 1em; padding-right: 1em; text-align: center; vertical-align: top\">34.94516534398124</td>\n",
       "    </tr>\n",
       "    <tr>\n",
       "        <td style=\"padding-left: 1em; padding-right: 1em; text-align: center; vertical-align: top\">45.10673529610854</td>\n",
       "        <td style=\"padding-left: 1em; padding-right: 1em; text-align: center; vertical-align: top\">40.523040105962316</td>\n",
       "        <td style=\"padding-left: 1em; padding-right: 1em; text-align: center; vertical-align: top\">40.60958309132649</td>\n",
       "        <td style=\"padding-left: 1em; padding-right: 1em; text-align: center; vertical-align: top\">39.095727834463545</td>\n",
       "    </tr>\n",
       "    <tr>\n",
       "        <td style=\"padding-left: 1em; padding-right: 1em; text-align: center; vertical-align: top\">41.32211409739762</td>\n",
       "        <td style=\"padding-left: 1em; padding-right: 1em; text-align: center; vertical-align: top\">38.19479183926956</td>\n",
       "        <td style=\"padding-left: 1em; padding-right: 1em; text-align: center; vertical-align: top\">39.90368673062214</td>\n",
       "        <td style=\"padding-left: 1em; padding-right: 1em; text-align: center; vertical-align: top\">37.76961310322034</td>\n",
       "    </tr>\n",
       "    <tr>\n",
       "        <td style=\"padding-left: 1em; padding-right: 1em; text-align: center; vertical-align: top\">41.82446549950164</td>\n",
       "        <td style=\"padding-left: 1em; padding-right: 1em; text-align: center; vertical-align: top\">40.156713166131446</td>\n",
       "        <td style=\"padding-left: 1em; padding-right: 1em; text-align: center; vertical-align: top\">38.067470016821176</td>\n",
       "        <td style=\"padding-left: 1em; padding-right: 1em; text-align: center; vertical-align: top\">35.10891446032838</td>\n",
       "    </tr>\n",
       "    <tr>\n",
       "        <td style=\"padding-left: 1em; padding-right: 1em; text-align: center; vertical-align: top\">45.497692940110376</td>\n",
       "        <td style=\"padding-left: 1em; padding-right: 1em; text-align: center; vertical-align: top\">45.55979626027668</td>\n",
       "        <td style=\"padding-left: 1em; padding-right: 1em; text-align: center; vertical-align: top\">42.72587329506032</td>\n",
       "        <td style=\"padding-left: 1em; padding-right: 1em; text-align: center; vertical-align: top\">43.242283258453455</td>\n",
       "    </tr>\n",
       "</table>\n",
       "[10 rows x 4 columns]<br/>\n",
       "</div>"
      ],
      "text/plain": [
       "Columns:\n",
       "\tdog-automobile\tfloat\n",
       "\tdog-bird\tfloat\n",
       "\tdog-cat\tfloat\n",
       "\tdog-dog\tfloat\n",
       "\n",
       "Rows: 10\n",
       "\n",
       "Data:\n",
       "+--------------------+--------------------+--------------------+\n",
       "|   dog-automobile   |      dog-bird      |      dog-cat       |\n",
       "+--------------------+--------------------+--------------------+\n",
       "| 41.95797614571203  | 41.75386473035126  | 36.419607706754384 |\n",
       "| 46.00213318067788  |  41.3382958924861  | 38.83532688735542  |\n",
       "| 42.946229069238804 | 38.615759085289056 | 36.97634108541546  |\n",
       "| 41.68660600484793  | 37.08922699538214  | 34.575007291446106 |\n",
       "| 39.22696649347584  | 38.27228869398105  | 34.77882479101661  |\n",
       "| 40.58451176980721  | 39.146208923590486 | 35.11715782924591  |\n",
       "| 45.10673529610854  | 40.523040105962316 | 40.60958309132649  |\n",
       "| 41.32211409739762  | 38.19479183926956  | 39.90368673062214  |\n",
       "| 41.82446549950164  | 40.156713166131446 | 38.067470016821176 |\n",
       "| 45.497692940110376 | 45.55979626027668  | 42.72587329506032  |\n",
       "+--------------------+--------------------+--------------------+\n",
       "+--------------------+\n",
       "|      dog-dog       |\n",
       "+--------------------+\n",
       "| 33.47735903726335  |\n",
       "| 32.84584956840554  |\n",
       "| 35.03970731890584  |\n",
       "| 33.90103276968193  |\n",
       "| 37.484925090925636 |\n",
       "| 34.94516534398124  |\n",
       "| 39.095727834463545 |\n",
       "| 37.76961310322034  |\n",
       "| 35.10891446032838  |\n",
       "| 43.242283258453455 |\n",
       "+--------------------+\n",
       "[10 rows x 4 columns]"
      ]
     },
     "execution_count": 52,
     "metadata": {},
     "output_type": "execute_result"
    }
   ],
   "source": [
    "dog_distances.head()"
   ]
  },
  {
   "cell_type": "markdown",
   "metadata": {},
   "source": [
    "# Now that you have created dog_distances, you will use the apply method on this SFrame to iterate through each row and compute the number of dog test examples where the distance to the nearest dog image was lower than that to the other image classes.\n",
    "\n",
    "## You will perform three steps:\n",
    "\n",
    "## 1\n",
    "Consider one row of dog_distances and call this variable row. You can access each distance by calling, for example, row['dog-cat'] which, in the previous table, will have value equal to 36.4196077068 for the first row. Create a function, def is_dog_correct(row):, that returns 1 if the value for row[‘dog-dog’] is lower than that of the other columns, and 0 otherwise. That is, returns 1 if this row is correctly classified by 1-nearest neighbors, and 0 if it is not.\n",
    "\n",
    "## 2\n",
    "Using the function is_dog_correct(row), you can check if one row is correctly classified. Next, you need to count how many rows are correctly classified. You could use a for loop to iterate through each row and apply the function is_dog_correct(row), but this method is extremely slow. An SFrame is not optimized for this type of operation. Instead, use the apply method to iterate the function is_dog_correct for each row.\n",
    "\n",
    "## 3\n",
    "Compute the number of correct predictions for dog. You can now call the function dog_distances.apply(is_dog_correct)which returns an SArray structure (a column of data) with a value 1 for every correct row and a value 0 for every incorrect one. You can call the sum method on the result to get the total number of correctly classified dog images in the test set.\n",
    "\n",
    "## .\n",
    "Using the work you did in this task, what is the accuracy of the 1-nearest neighbor classifier at classifying dog images from the test set?"
   ]
  },
  {
   "cell_type": "code",
   "execution_count": 137,
   "metadata": {},
   "outputs": [],
   "source": [
    "\n",
    "def is_dog_correct(row):  \n",
    "    if row['dog-dog'] <= min(row.values()):     \n",
    "        return 1    \n",
    "    else:        \n",
    "        return 0\n"
   ]
  },
  {
   "cell_type": "code",
   "execution_count": 143,
   "metadata": {},
   "outputs": [
    {
     "data": {
      "text/plain": [
       "678"
      ]
     },
     "execution_count": 143,
     "metadata": {},
     "output_type": "execute_result"
    }
   ],
   "source": [
    " dog_distances.apply(is_dog_correct).sum()"
   ]
  },
  {
   "cell_type": "code",
   "execution_count": null,
   "metadata": {},
   "outputs": [],
   "source": []
  }
 ],
 "metadata": {
  "kernelspec": {
   "display_name": "Python 3",
   "language": "python",
   "name": "python3"
  },
  "language_info": {
   "codemirror_mode": {
    "name": "ipython",
    "version": 3
   },
   "file_extension": ".py",
   "mimetype": "text/x-python",
   "name": "python",
   "nbconvert_exporter": "python",
   "pygments_lexer": "ipython3",
   "version": "3.7.4"
  }
 },
 "nbformat": 4,
 "nbformat_minor": 2
}
